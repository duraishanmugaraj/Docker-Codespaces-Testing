{
 "cells": [
  {
   "cell_type": "code",
   "execution_count": 1,
   "metadata": {},
   "outputs": [
    {
     "name": "stdout",
     "output_type": "stream",
     "text": [
      "root\n"
     ]
    }
   ],
   "source": [
    "!whoami"
   ]
  },
  {
   "cell_type": "code",
   "execution_count": 2,
   "metadata": {},
   "outputs": [
    {
     "name": "stdout",
     "output_type": "stream",
     "text": [
      ":: loading settings :: url = jar:file:/opt/spark/jars/ivy-2.5.1.jar!/org/apache/ivy/core/settings/ivysettings.xml\n"
     ]
    },
    {
     "name": "stderr",
     "output_type": "stream",
     "text": [
      "Ivy Default Cache set to: /root/.ivy2/cache\n",
      "The jars for the packages stored in: /root/.ivy2/jars\n",
      "net.snowflake#spark-snowflake_2.12 added as a dependency\n",
      ":: resolving dependencies :: org.apache.spark#spark-submit-parent-2940c246-f79b-43ec-8b20-6548a0959243;1.0\n",
      "\tconfs: [default]\n",
      "\tfound net.snowflake#spark-snowflake_2.12;2.16.0-spark_3.4 in central\n",
      "\tfound net.snowflake#snowflake-jdbc;3.16.1 in central\n",
      "downloading https://repo1.maven.org/maven2/net/snowflake/spark-snowflake_2.12/2.16.0-spark_3.4/spark-snowflake_2.12-2.16.0-spark_3.4.jar ...\n",
      "\t[SUCCESSFUL ] net.snowflake#spark-snowflake_2.12;2.16.0-spark_3.4!spark-snowflake_2.12.jar (1369ms)\n",
      "downloading https://repo1.maven.org/maven2/net/snowflake/snowflake-jdbc/3.16.1/snowflake-jdbc-3.16.1.jar ...\n",
      "\t[SUCCESSFUL ] net.snowflake#snowflake-jdbc;3.16.1!snowflake-jdbc.jar (5674ms)\n",
      ":: resolution report :: resolve 2558ms :: artifacts dl 7052ms\n",
      "\t:: modules in use:\n",
      "\tnet.snowflake#snowflake-jdbc;3.16.1 from central in [default]\n",
      "\tnet.snowflake#spark-snowflake_2.12;2.16.0-spark_3.4 from central in [default]\n",
      "\t---------------------------------------------------------------------\n",
      "\t|                  |            modules            ||   artifacts   |\n",
      "\t|       conf       | number| search|dwnlded|evicted|| number|dwnlded|\n",
      "\t---------------------------------------------------------------------\n",
      "\t|      default     |   2   |   2   |   2   |   0   ||   2   |   2   |\n",
      "\t---------------------------------------------------------------------\n",
      ":: retrieving :: org.apache.spark#spark-submit-parent-2940c246-f79b-43ec-8b20-6548a0959243\n",
      "\tconfs: [default]\n",
      "\t2 artifacts copied, 0 already retrieved (70023kB/126ms)\n",
      "24/08/17 15:19:16 WARN NativeCodeLoader: Unable to load native-hadoop library for your platform... using builtin-java classes where applicable\n",
      "Setting default log level to \"WARN\".\n",
      "To adjust logging level use sc.setLogLevel(newLevel). For SparkR, use setLogLevel(newLevel).\n"
     ]
    },
    {
     "data": {
      "text/html": [
       "\n",
       "            <div>\n",
       "                <p><b>SparkSession - in-memory</b></p>\n",
       "                \n",
       "        <div>\n",
       "            <p><b>SparkContext</b></p>\n",
       "\n",
       "            <p><a href=\"http://bec88bee38cd:4040\">Spark UI</a></p>\n",
       "\n",
       "            <dl>\n",
       "              <dt>Version</dt>\n",
       "                <dd><code>v3.5.2</code></dd>\n",
       "              <dt>Master</dt>\n",
       "                <dd><code>spark://master:7077</code></dd>\n",
       "              <dt>AppName</dt>\n",
       "                <dd><code>MySparkApp</code></dd>\n",
       "            </dl>\n",
       "        </div>\n",
       "        \n",
       "            </div>\n",
       "        "
      ],
      "text/plain": [
       "<pyspark.sql.session.SparkSession at 0x7023aa267040>"
      ]
     },
     "execution_count": 2,
     "metadata": {},
     "output_type": "execute_result"
    }
   ],
   "source": [
    "from pyspark.sql import SparkSession\n",
    "from pyspark.sql.functions import col,avg\n",
    "import time\n",
    "\n",
    "# Initialize SparkSession\n",
    "spark = SparkSession.builder \\\n",
    "    .appName(\"MySparkApp\") \\\n",
    "    .master(\"spark://master:7077\") \\\n",
    "    .config(\"spark.jars.packages\", \"net.snowflake:spark-snowflake_2.12:2.16.0-spark_3.4\")  \\\n",
    "    .getOrCreate()\n",
    "\n",
    "spark"
   ]
  },
  {
   "cell_type": "code",
   "execution_count": 3,
   "metadata": {},
   "outputs": [
    {
     "name": "stdout",
     "output_type": "stream",
     "text": [
      "('spark.repl.local.jars', 'file:///root/.ivy2/jars/net.snowflake_spark-snowflake_2.12-2.16.0-spark_3.4.jar,file:///root/.ivy2/jars/net.snowflake_snowflake-jdbc-3.16.1.jar')\n",
      "('spark.driver.extraJavaOptions', '-Djava.net.preferIPv6Addresses=false -XX:+IgnoreUnrecognizedVMOptions --add-opens=java.base/java.lang=ALL-UNNAMED --add-opens=java.base/java.lang.invoke=ALL-UNNAMED --add-opens=java.base/java.lang.reflect=ALL-UNNAMED --add-opens=java.base/java.io=ALL-UNNAMED --add-opens=java.base/java.net=ALL-UNNAMED --add-opens=java.base/java.nio=ALL-UNNAMED --add-opens=java.base/java.util=ALL-UNNAMED --add-opens=java.base/java.util.concurrent=ALL-UNNAMED --add-opens=java.base/java.util.concurrent.atomic=ALL-UNNAMED --add-opens=java.base/jdk.internal.ref=ALL-UNNAMED --add-opens=java.base/sun.nio.ch=ALL-UNNAMED --add-opens=java.base/sun.nio.cs=ALL-UNNAMED --add-opens=java.base/sun.security.action=ALL-UNNAMED --add-opens=java.base/sun.util.calendar=ALL-UNNAMED --add-opens=java.security.jgss/sun.security.krb5=ALL-UNNAMED -Djdk.reflect.useDirectMethodHandle=false')\n",
      "('spark.sql.warehouse.dir', 'file:/opt/spark/work-dir/spark-warehouse')\n",
      "('spark.master', 'spark://master:7077')\n",
      "('spark.executor.id', 'driver')\n",
      "('spark.app.initial.jar.urls', 'spark://bec88bee38cd:46263/jars/net.snowflake_spark-snowflake_2.12-2.16.0-spark_3.4.jar,spark://bec88bee38cd:46263/jars/net.snowflake_snowflake-jdbc-3.16.1.jar')\n",
      "('spark.files', 'file:///root/.ivy2/jars/net.snowflake_spark-snowflake_2.12-2.16.0-spark_3.4.jar,file:///root/.ivy2/jars/net.snowflake_snowflake-jdbc-3.16.1.jar')\n",
      "('spark.app.startTime', '1723907957279')\n",
      "('spark.submit.pyFiles', '/root/.ivy2/jars/net.snowflake_spark-snowflake_2.12-2.16.0-spark_3.4.jar,/root/.ivy2/jars/net.snowflake_snowflake-jdbc-3.16.1.jar')\n",
      "('spark.driver.port', '46263')\n",
      "('spark.jars.packages', 'net.snowflake:spark-snowflake_2.12:2.16.0-spark_3.4')\n",
      "('spark.rdd.compress', 'True')\n",
      "('spark.app.submitTime', '1723907957048')\n",
      "('spark.executor.extraJavaOptions', '-Djava.net.preferIPv6Addresses=false -XX:+IgnoreUnrecognizedVMOptions --add-opens=java.base/java.lang=ALL-UNNAMED --add-opens=java.base/java.lang.invoke=ALL-UNNAMED --add-opens=java.base/java.lang.reflect=ALL-UNNAMED --add-opens=java.base/java.io=ALL-UNNAMED --add-opens=java.base/java.net=ALL-UNNAMED --add-opens=java.base/java.nio=ALL-UNNAMED --add-opens=java.base/java.util=ALL-UNNAMED --add-opens=java.base/java.util.concurrent=ALL-UNNAMED --add-opens=java.base/java.util.concurrent.atomic=ALL-UNNAMED --add-opens=java.base/jdk.internal.ref=ALL-UNNAMED --add-opens=java.base/sun.nio.ch=ALL-UNNAMED --add-opens=java.base/sun.nio.cs=ALL-UNNAMED --add-opens=java.base/sun.security.action=ALL-UNNAMED --add-opens=java.base/sun.util.calendar=ALL-UNNAMED --add-opens=java.security.jgss/sun.security.krb5=ALL-UNNAMED -Djdk.reflect.useDirectMethodHandle=false')\n",
      "('spark.app.id', 'app-20240817151919-0000')\n",
      "('spark.serializer.objectStreamReset', '100')\n",
      "('spark.app.name', 'MySparkApp')\n",
      "('spark.submit.deployMode', 'client')\n",
      "('spark.jars', 'file:///root/.ivy2/jars/net.snowflake_spark-snowflake_2.12-2.16.0-spark_3.4.jar,file:///root/.ivy2/jars/net.snowflake_snowflake-jdbc-3.16.1.jar')\n",
      "('spark.ui.showConsoleProgress', 'true')\n",
      "('spark.driver.host', 'bec88bee38cd')\n",
      "('spark.app.initial.file.urls', 'spark://bec88bee38cd:46263/files/net.snowflake_spark-snowflake_2.12-2.16.0-spark_3.4.jar,spark://bec88bee38cd:46263/files/net.snowflake_snowflake-jdbc-3.16.1.jar')\n"
     ]
    }
   ],
   "source": [
    "for i in spark.sparkContext.getConf().getAll(): print(i)"
   ]
  },
  {
   "cell_type": "code",
   "execution_count": 3,
   "metadata": {},
   "outputs": [
    {
     "name": "stderr",
     "output_type": "stream",
     "text": [
      "                                                                                \r"
     ]
    },
    {
     "name": "stdout",
     "output_type": "stream",
     "text": [
      "+-----+---+\n",
      "| Name|Age|\n",
      "+-----+---+\n",
      "|Alice| 34|\n",
      "|  Bob| 45|\n",
      "|Cathy| 29|\n",
      "|David| 35|\n",
      "+-----+---+\n",
      "\n",
      "+-----+---+----------+\n",
      "| Name|Age|AgePlusOne|\n",
      "+-----+---+----------+\n",
      "|Alice| 34|        35|\n",
      "|  Bob| 45|        46|\n",
      "|Cathy| 29|        30|\n",
      "|David| 35|        36|\n",
      "+-----+---+----------+\n",
      "\n"
     ]
    },
    {
     "name": "stderr",
     "output_type": "stream",
     "text": [
      "                                                                                \r"
     ]
    },
    {
     "name": "stdout",
     "output_type": "stream",
     "text": [
      "The average age is: 35.75\n",
      "+-----+---+\n",
      "| Name|Age|\n",
      "+-----+---+\n",
      "|Alice| 34|\n",
      "|  Bob| 45|\n",
      "|David| 35|\n",
      "+-----+---+\n",
      "\n"
     ]
    }
   ],
   "source": [
    "# Create a sample DataFrame\n",
    "data = [(\"Alice\", 34), (\"Bob\", 45), (\"Cathy\", 29), (\"David\", 35)]\n",
    "columns = [\"Name\", \"Age\"]\n",
    "\n",
    "df = spark.createDataFrame(data, columns)\n",
    "\n",
    "# Show the DataFrame\n",
    "df.show()\n",
    "\n",
    "# Add a new column with age incremented by 1\n",
    "df_with_new_col = df.withColumn(\"AgePlusOne\", col(\"Age\") + 1)\n",
    "\n",
    "# Show the DataFrame with the new column\n",
    "df_with_new_col.show()\n",
    "\n",
    "# Calculate the average age\n",
    "average_age = df.agg(avg(\"Age\")).collect()[0][0]\n",
    "print(f\"The average age is: {average_age}\")\n",
    "\n",
    "# Filter the DataFrame to include only rows where age is greater than 30\n",
    "filtered_df = df.filter(col(\"Age\") > 30)\n",
    "\n",
    "# Show the filtered DataFrame\n",
    "filtered_df.show()"
   ]
  },
  {
   "cell_type": "code",
   "execution_count": 6,
   "metadata": {},
   "outputs": [
    {
     "name": "stderr",
     "output_type": "stream",
     "text": [
      "                                                                                \r"
     ]
    },
    {
     "name": "stdout",
     "output_type": "stream",
     "text": [
      "+---+-------------+--------------------+------------------+-------------------+------+------+\n",
      "| id|player_api_id|         player_name|player_fifa_api_id|           birthday|height|weight|\n",
      "+---+-------------+--------------------+------------------+-------------------+------+------+\n",
      "|  1|       505942|  Aaron Appindangoye|            218353|1992-02-29 00:00:00|182.88|   187|\n",
      "|  2|       155782|     Aaron Cresswell|            189615|1989-12-15 00:00:00|170.18|   146|\n",
      "|  3|       162549|         Aaron Doran|            186170|1991-05-13 00:00:00|170.18|   163|\n",
      "|  4|        30572|       Aaron Galindo|            140161|1982-05-08 00:00:00|182.88|   198|\n",
      "|  5|        23780|        Aaron Hughes|             17725|1979-11-08 00:00:00|182.88|   154|\n",
      "|  6|        27316|          Aaron Hunt|            158138|1986-09-04 00:00:00|182.88|   161|\n",
      "|  7|       564793|          Aaron Kuhl|            221280|1996-01-30 00:00:00|172.72|   146|\n",
      "|  8|        30895|        Aaron Lennon|            152747|1987-04-16 00:00:00| 165.1|   139|\n",
      "|  9|       528212|        Aaron Lennox|            206592|1993-02-19 00:00:00| 190.5|   181|\n",
      "| 10|       101042|       Aaron Meijers|            188621|1987-10-28 00:00:00|175.26|   170|\n",
      "| 11|        23889|       Aaron Mokoena|             47189|1980-11-25 00:00:00|182.88|   181|\n",
      "| 12|       231592|          Aaron Mooy|            194958|1990-09-15 00:00:00|175.26|   150|\n",
      "| 13|       163222|      Aaron Muirhead|            213568|1990-08-30 00:00:00|187.96|   168|\n",
      "| 14|        40719|        Aaron Niguez|            183853|1989-04-26 00:00:00|170.18|   143|\n",
      "| 15|        75489|        Aaron Ramsey|            186561|1990-12-26 00:00:00| 177.8|   154|\n",
      "| 16|       597948|       Aaron Splaine|            226014|1996-10-13 00:00:00|172.72|   163|\n",
      "| 17|       161644|Aaron Taylor-Sinc...|            213569|1991-04-08 00:00:00|182.88|   176|\n",
      "| 18|        23499|     Aaron Wilbraham|              2335|1979-10-21 00:00:00| 190.5|   159|\n",
      "| 19|       120919|   Aatif Chahechouhe|            187939|1986-07-02 00:00:00|175.26|   150|\n",
      "| 20|        46447|           Abasse Ba|            156626|1976-07-12 00:00:00|187.96|   185|\n",
      "+---+-------------+--------------------+------------------+-------------------+------+------+\n",
      "only showing top 20 rows\n",
      "\n"
     ]
    },
    {
     "name": "stderr",
     "output_type": "stream",
     "text": [
      "                                                                                \r"
     ]
    }
   ],
   "source": [
    "df = spark.read.csv(\"file:///data/Player.csv\", header=True)\n",
    "df.show()\n"
   ]
  },
  {
   "cell_type": "code",
   "execution_count": 8,
   "metadata": {},
   "outputs": [
    {
     "name": "stderr",
     "output_type": "stream",
     "text": [
      "24/08/17 15:03:46 WARN SnowflakeConnectorUtils$: Query pushdown is not supported because you are using Spark 3.5.2 with a connector designed to support Spark 3.4. Either use the version of Spark supported by the connector or install a version of the connector that supports your version of Spark.\n",
      "24/08/17 15:03:49 WARN SparkStringUtils: Truncated the string representation of a plan since it was too large. This behavior can be adjusted by setting 'spark.sql.debug.maxToStringFields'.\n",
      "24/08/17 15:03:55 ERROR Inbox: Ignoring error                       (0 + 1) / 1]\n",
      "java.io.NotSerializableException: org.apache.spark.storage.StorageStatus\n",
      "Serialization stack:\n",
      "\t- object not serializable (class: org.apache.spark.storage.StorageStatus, value: org.apache.spark.storage.StorageStatus@6ee00915)\n",
      "\t- element of array (index: 0)\n",
      "\t- array (class [Lorg.apache.spark.storage.StorageStatus;, size 3)\n",
      "\tat org.apache.spark.serializer.SerializationDebugger$.improveException(SerializationDebugger.scala:41)\n",
      "\tat org.apache.spark.serializer.JavaSerializationStream.writeObject(JavaSerializer.scala:49)\n",
      "\tat org.apache.spark.serializer.JavaSerializerInstance.serialize(JavaSerializer.scala:115)\n",
      "\tat org.apache.spark.rpc.netty.NettyRpcEnv.serialize(NettyRpcEnv.scala:286)\n",
      "\tat org.apache.spark.rpc.netty.RemoteNettyRpcCallContext.send(NettyRpcCallContext.scala:64)\n",
      "\tat org.apache.spark.rpc.netty.NettyRpcCallContext.reply(NettyRpcCallContext.scala:32)\n",
      "\tat org.apache.spark.storage.BlockManagerMasterEndpoint$$anonfun$receiveAndReply$1.applyOrElse(BlockManagerMasterEndpoint.scala:172)\n",
      "\tat org.apache.spark.rpc.netty.Inbox.$anonfun$process$1(Inbox.scala:103)\n",
      "\tat org.apache.spark.rpc.netty.Inbox.safelyCall(Inbox.scala:213)\n",
      "\tat org.apache.spark.rpc.netty.Inbox.process(Inbox.scala:100)\n",
      "\tat org.apache.spark.rpc.netty.MessageLoop.org$apache$spark$rpc$netty$MessageLoop$$receiveLoop(MessageLoop.scala:75)\n",
      "\tat org.apache.spark.rpc.netty.MessageLoop$$anon$1.run(MessageLoop.scala:41)\n",
      "\tat java.base/java.util.concurrent.ThreadPoolExecutor.runWorker(Unknown Source)\n",
      "\tat java.base/java.util.concurrent.ThreadPoolExecutor$Worker.run(Unknown Source)\n",
      "\tat java.base/java.lang.Thread.run(Unknown Source)\n"
     ]
    },
    {
     "name": "stdout",
     "output_type": "stream",
     "text": [
      "+------+-------------------+-------------------+------------------+------------------+-------------------+-------------------+-------------------+--------------------+-------------------+-------------------+------------------+-------------------+-------------------+------------------+-------------------+-------------------+------------------+------------------+-------------------+-------------------+--------------------+------------------+-------------------+-------------------+-------------------+------------------+--------------------+-------------------+------+-----+\n",
      "|  TIME|                 V1|                 V2|                V3|                V4|                 V5|                 V6|                 V7|                  V8|                 V9|                V10|               V11|                V12|                V13|               V14|                V15|                V16|               V17|               V18|                V19|                V20|                 V21|               V22|                V23|                V24|                V25|               V26|                 V27|                V28|AMOUNT|CLASS|\n",
      "+------+-------------------+-------------------+------------------+------------------+-------------------+-------------------+-------------------+--------------------+-------------------+-------------------+------------------+-------------------+-------------------+------------------+-------------------+-------------------+------------------+------------------+-------------------+-------------------+--------------------+------------------+-------------------+-------------------+-------------------+------------------+--------------------+-------------------+------+-----+\n",
      "|116249| -0.355431545499859|  -4.29038257404162| -2.25125276438815|  0.82229585050292| -0.588452497411749|   2.21277508431914|  0.771258908863181|   0.309764063319634|  0.794043824521382| -0.564221381236721| 0.723365810676971|   1.01861425455419| -0.231747705994286| 0.444475589768242|  0.183264670289974| -0.203926300007464| 0.120643751479357| -1.14627988334187| -0.617780549530434|    2.1001776831384|   0.349932565788185|  -1.4546384415186| -0.515870225915313| -0.918093183131448|   -1.2044695429902| 0.103800155323456|  -0.225430054993601|  0.134129989304685|1170.8|    0|\n",
      "|116249| -0.355431545499859|  -4.29038257404162| -2.25125276438815|  0.82229585050292| -0.588452497411749|   2.21277508431914|  0.771258908863181|   0.309764063319634|  0.794043824521382| -0.564221381236721| 0.723365810676971|   1.01861425455419| -0.231747705994286| 0.444475589768242|  0.183264670289974| -0.203926300007464| 0.120643751479357| -1.14627988334187| -0.617780549530434|    2.1001776831384|   0.349932565788185|  -1.4546384415186| -0.515870225915313| -0.918093183131448|   -1.2044695429902| 0.103800155323456|  -0.225430054993601|  0.134129989304685|1170.8|    0|\n",
      "|116249|  0.714254717151497|  -2.52279174413634| -1.63038375992268| 0.372521126775708|-0.0423677664765729|   2.01351677596336|  0.036509598722143|   0.453479045348428|  0.859262015658779| -0.306327890451478| 0.715432869857498|  0.995808060087808|  -0.33046500748581| 0.319120116166723|  0.113609511573219| -0.276956306193928| 0.104228154398636| -1.25972596367005| -0.440934174523738|  0.972589629851655|  0.0144286588854759| -1.16240219001509|-0.0278393219595011| -0.946504901874247|  -1.00116448153052| 0.162853526750413|  -0.120810128627935| 0.0377209990241359| 617.1|    0|\n",
      "|116249|  0.714254717151497|  -2.52279174413634| -1.63038375992268| 0.372521126775708|-0.0423677664765729|   2.01351677596336|  0.036509598722143|   0.453479045348428|  0.859262015658779| -0.306327890451478| 0.715432869857498|  0.995808060087808|  -0.33046500748581| 0.319120116166723|  0.113609511573219| -0.276956306193928| 0.104228154398636| -1.25972596367005| -0.440934174523738|  0.972589629851655|  0.0144286588854759| -1.16240219001509|-0.0278393219595011| -0.946504901874247|  -1.00116448153052| 0.162853526750413|  -0.120810128627935| 0.0377209990241359| 617.1|    0|\n",
      "|116249|  -5.03264196041472|   4.47084386386864| -3.81237631192437|-0.709455635602101|  -2.73849073979882|  -1.72474714179716|  -2.05369872878251|    3.50297441763705|  0.306747690192995|  0.552658948418363| -1.94712399806358|   1.58729946939558|  0.556842880740815|  2.11686142938326|  -0.57856806746684|   0.74720679943508| 0.924874135870511|-0.584564465504107| -0.402747330988299|  0.192300812552857|  -0.207957571112934|-0.857851187802419|  0.552933481828407|0.00341655619503528|  0.149394205989186| 0.167965107715738| -0.0924304215306395| -0.154351617955308| 10.98|    0|\n",
      "|116250|   1.82972220767341|  -1.05644366193695| -2.69533753127229|-0.408789760838717|  0.133602296498624|  -1.25984627545333|  0.766340667213881|  -0.596127380459008|  -1.41714977763427|   1.11486923963887| 0.406259989541404|  0.367243464631364|0.00533039592401611| 0.918742425156116|  -1.03868533595683|  -1.97479470520666|-0.164936384442206|  1.23940759868959| -0.324797023930513| -0.195358494936603|  0.0536633461149465|  0.29220558467054| -0.327408392786062| -0.251390288952159|  0.438514317822761| 0.997577985895072|  -0.165745555222342|-0.0688382210011656|   219|    0|\n",
      "|116250|  0.857433463834187|  0.679098514896685| -3.72506906835126| -1.23475026262083|    3.3887726697163|   3.13793396652436| -0.348391654029955|   -2.19212741109789| -0.789256344178711| -0.546435612576107|-0.362795007258803|  0.279858094182526| -0.740086224155607|   1.5510314828635| -0.475742049533571| -0.631913162929979|-0.291150561593776|-0.738194371188726| -0.768903361197443|   0.40183899197037|  -0.844066526336937|  1.66605057341897| 0.0626544691865069|  0.792093938552579| -0.228488700147146| 0.487223042741401|   0.235529956517612|   0.41690573422305|     1|    0|\n",
      "|116251| -0.384373654894963|  0.837836092227659| 0.665281776844082| -1.23526603362928|  0.871512183945583| -0.477270603436387|   1.11231750568057| -0.0372474810953567| -0.533841992827126| -0.760579864879715| 0.336810013758326|   0.51954510947138| -0.323682895593595| 0.370037325413726|  -1.30521169240768|  0.334572733708708|-0.899689301533665|-0.211120903964376| -0.127843547202035| -0.203909660634183|   -0.18429423851665|-0.551054603290253| -0.152113243320977| -0.475560764017377| -0.291024867319441|0.0917502488970718|  0.0509005515625265|  0.119766054381055|  1.98|    0|\n",
      "|116252|-0.0616909738484467| -0.688102663334086|   1.2189212437429| -2.71074819906366| -0.915498754801659| 0.0748130304024827| -0.497959217260134|   0.195542971716971|  -2.00843029975366|  0.894592453131983| 0.397999918465072| -0.817950628521161| -0.409526358531162|-0.341790362260425| -0.963442725150338|-0.0367784905139706|0.0687691419994833| 0.622053691478699| 0.0487299204617875| -0.293856133189204|  -0.239523813309862| -0.45185878501339|  0.272283171926893|  0.668090396996912| -0.971309417720265|-0.612720360378138|   0.188289144944742|  0.194572390749947| 45.71|    0|\n",
      "|116252| -0.259469927509603|   1.06002827598412|-0.619481121619105|-0.545816264190976|  0.398062090752349|  -0.61772235852987|  0.461152936051688|   0.440519141728929| -0.247496558772326| -0.300528259022621|  0.39307741082648| 0.0281158832301159|  -1.40366818128476|  1.20171068760309|-0.0895484013629583|-0.0435570104945656|-0.487325206132346| 0.888208244103988|  0.331558591254239|  -0.18640868093088|   0.442449730337503|  1.27913683186716|  -0.03900084756495|   0.76418650990857|  -0.83031222441024|-0.268816630665411|   0.367903993995645|  0.254144159755341|  1.19|    0|\n",
      "|116252|   1.97081867846589|   0.42105090882113| -2.41066900590395|  1.48171314912517|   1.03122649799029| -0.882906117185248|  0.719188339491061|  -0.338631764854613|  0.120455199519206| -0.379144370603785|   -0.641204711542|0.00490401420960182| -0.205923487186619| -1.00524237457788| -0.317506563983217| -0.191661600243636|  0.95811508654391|0.0713578362446736| -0.398636433409574| -0.147710214980505| -0.0248499784814224|0.0604851395695193|-0.0367855611231415|  0.482710390924119|  0.485559447788428|-0.518918839989873|-0.00755437215706065|-0.0171516592598913| 42.61|    0|\n",
      "|116252|   1.78167567032427|-0.0909770016492814| -1.34357900231172|  1.41007729725976|  0.147407019162944| -0.370238355036104|-0.0100322013871322|-0.00980287829111472|  0.414118938027319| -0.157095894271061| 0.812760510074307|   0.53415539530753| -0.441488974723656|-0.790049815545626| -0.291918930828813|  0.678410940447758| 0.134434300130541| 0.927518491676289|  -0.28724224793132|-0.0675785961094263|  0.0095202940236478|-0.025825936081809| 0.0488614782140431| -0.538589391864085|-0.0560862395922445|-0.699898543634248|  0.0268527144828176|-0.0115882260212192|    91|    0|\n",
      "|116252|    1.8822972064078|  0.501134575454494| -1.88780869907282|  1.53413484424222|   0.53045029262162|  -1.10988667281322|  0.352332031055104|  -0.148639643328443|-0.0181415293360783| -0.523081342989482|  1.67469729604139|  0.418013118991699| -0.679519209129631| -1.55348608614055| -0.106773878644067|   0.84191587367025|  1.12623762252837| 0.906427029810229|  -0.45632541067148| -0.173172969499728|  -0.283815028186317|-0.828619405981798|  0.249377727586485| -0.261399943161975| -0.175866316414761|-0.942272545303022|  0.0266867717530446|  0.003173619254763| 33.95|    0|\n",
      "|116252|   1.54311614426846|  -1.39982785575304| -1.99212860212561|-0.339409732214473|   1.52844997811577|   3.96354858720328| -0.944997989089541|   0.975841069482594|   0.96540284295227|-0.0188700756271437|-0.179843467716391|  0.321015804773004| 0.0375376787698172|0.0777862545153502|  0.975650031083029|  0.312907393846785|-0.648301154987485|0.0632246737324317| -0.615219988502441|  0.335042237099643|   0.388368235120905| 0.700471017358146|-0.0488436432893428|  0.770981164177807| -0.222688326999287|  0.45777940090638| -0.0333609097011256|-0.0135244745060943| 233.2|    0|\n",
      "|116253| -0.491890757275729|   1.37937847044682| -3.96638660479647| -1.46300059401397|   2.92074631302493|   3.33499054250185|   0.11209706695964|    -1.7276078508457|  -1.10579881027681| -0.755074208798502| -0.62292706868245|  0.220620143363263| -0.675648011270632|  1.69872546145511| -0.643882534585941| -0.598456735851708|  -0.1034157138909|-0.530736014263722|   -0.5780264447055|  0.455516654125485|  -0.755666947440477|  1.93684498079463|  0.302119840303816|  0.777786342863948|  -1.16292608097668| 0.395969445463013|   0.403825259073701|  0.325016758502677|103.79|    0|\n",
      "|116254| -0.973190905623588|  0.505619158404848|-0.115559688084464| -1.98563649447321| -0.260803633804668|  -1.30298935084535|  0.116286886040212|   0.306744740978274| -0.844529973726502| -0.439449839990863|-0.712589936453668| -0.668514471502656|  0.257240620419128| -1.48961645509189| -0.603562105635849|   1.83243719255752| 0.964933738073628| -1.27354314635833|-0.0584580282528111|  0.124096149302547|  -0.361541521918706| -1.01607327735226|  0.396453312925945| -0.288689899172392| -0.152272326739166|-0.737392597732094|    0.31199292515356| 0.0740748147639381| 39.99|    0|\n",
      "|116254| -0.477512417379457|  0.688751117950599|  1.36725807730786| 0.173516415022204|  0.326060468409875| 0.0769979092390563|  0.942415916651638|   0.100978085709432|  0.258596449660464|  -1.02396143631135| -1.19074237157593|  0.670110470893287|0.00169159517774294|-0.449750133287003|  -1.98587239711012| -0.391375360388085|-0.222236413328753|-0.985129972923646| -0.671903410001752| -0.155966220974183|  -0.366437311840149|-0.951585512647771|  0.287822725614625|   1.00066100135848| -0.604004093945544| -1.32958926887973|   0.200690594134706|  0.211607575410229| 53.98|    0|\n",
      "|116255| -0.934632361019228|  0.158043431831966| 0.770572988260402| 0.607003828806573|  0.986923401587468|-0.0360431811882747|   1.17724839719908|  -0.644546978124866|  0.419575391134065|  0.482170201516402|-0.837600381695675| -0.189064446329463|  0.124893891181411|-0.566708060439147|  0.291080022000836| -0.310236412319653|-0.708954175341347|-0.132988240509096|-0.0361307259083733| -0.366940720578253|    -0.1229094348435| 0.339183705939762|  0.236617816679511|  0.651471127644074|-0.0286321814070562|-0.760506347199531|  -0.703672845507231| -0.231156327303163|    55|    0|\n",
      "|116255|  -1.44804239681835| 0.0277098908491631| 0.156916461225647| 0.340285264743238|   1.76360167372393| -0.620561794268001|   1.74965781897762|  -0.501823224815801| -0.636479560445822|  0.028822886498263| 0.352271406258766|  0.346215677262813| -0.418167254897444| 0.305321195354898|  -1.43068646657698| -0.513480232879704|-0.712040705806171|0.0928220517386193|   0.25077806465802|  -0.44789511072727|-0.00677659570357609| 0.635622477775016|  0.280653120581595| -0.394941558679726|  0.725219403978877|-0.498131228888201|  -0.181582996642565| -0.121488428780789| 61.38|    0|\n",
      "|116255| -0.502070074847126|  0.781533362852703| -1.19093304478952| -1.15840353673054|    3.6286419200449|    3.4355981776435|   1.15502946317969|   0.762429550759287| -0.838640747298273| -0.752688438941643|-0.545071505014771|  -0.11876082719721|  -0.65029583381511| 0.618091049113806| -0.868393391052983| -0.568222028417794|-0.546863421084245|-0.573000568062008|  -0.91853026843749| -0.123378648732747|   0.132748656143869| 0.299841655274856| -0.323795444414449|  0.696381542897975|  0.592517646491058|-0.578538481946795|   0.104167798629921|  0.122318302979628| 38.26|    0|\n",
      "+------+-------------------+-------------------+------------------+------------------+-------------------+-------------------+-------------------+--------------------+-------------------+-------------------+------------------+-------------------+-------------------+------------------+-------------------+-------------------+------------------+------------------+-------------------+-------------------+--------------------+------------------+-------------------+-------------------+-------------------+------------------+--------------------+-------------------+------+-----+\n",
      "only showing top 20 rows\n",
      "\n"
     ]
    },
    {
     "name": "stderr",
     "output_type": "stream",
     "text": [
      "                                                                                \r"
     ]
    },
    {
     "name": "stderr",
     "output_type": "stream",
     "text": [
      "24/08/17 15:11:44 WARN SparkConnectorContext$: Finish cancelling all queries for app-20240817150128-0001\n"
     ]
    }
   ],
   "source": [
    "# Snowflake connection options\n",
    "sfOptions = {\n",
    "    \"sfURL\": f\"https://as37355.ap-south-1.aws.snowflakecomputing.com\",\n",
    "    \"sfUser\": \"srinitheka\",\n",
    "    \"sfPassword\": \"Cottoncandy@123\",\n",
    "    \"sfDatabase\": \"TEST\",\n",
    "    \"sfSchema\": \"TEST\",\n",
    "    \"sfWarehouse\": \"compute_wh\",\n",
    "    \"sfRole\": \"ACCOUNTADMIN\"\n",
    "}\n",
    "\n",
    "# Read the data from Snowflake table into a DataFrame\n",
    "df = spark.read \\\n",
    "    .format(\"net.snowflake.spark.snowflake\") \\\n",
    "    .options(**sfOptions) \\\n",
    "    .option(\"dbtable\", \"TEST.TEST.CREDIT_CARD\") \\\n",
    "    .load()\n",
    "\n",
    "# Register the DataFrame as a temporary SQL view for processing\n",
    "df.createOrReplaceTempView(\"CREDIT_CARD\")\n",
    "df.show()"
   ]
  }
 ],
 "metadata": {
  "kernelspec": {
   "display_name": "Python 3 (ipykernel)",
   "language": "python",
   "name": "python3"
  },
  "language_info": {
   "codemirror_mode": {
    "name": "ipython",
    "version": 3
   },
   "file_extension": ".py",
   "mimetype": "text/x-python",
   "name": "python",
   "nbconvert_exporter": "python",
   "pygments_lexer": "ipython3",
   "version": "3.8.10"
  }
 },
 "nbformat": 4,
 "nbformat_minor": 2
}
